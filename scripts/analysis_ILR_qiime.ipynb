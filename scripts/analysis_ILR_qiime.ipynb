{
 "cells": [
  {
   "cell_type": "markdown",
   "metadata": {},
   "source": [
    "# QIIME\n",
    "> By Gati Aher  \n",
    "> Dec 5, 2021  \n",
    "\n",
    "**Dataset:** FCF Carbon Perturbation (Cellulose-Glucose-Malate)\n",
    "\n",
    "**Goal:**\n",
    "- Create isometric balances\n",
    "- Perform differential abundance analysis"
   ]
  },
  {
   "cell_type": "markdown",
   "metadata": {},
   "source": [
    "## Cellulose and Malate"
   ]
  },
  {
   "cell_type": "markdown",
   "metadata": {},
   "source": [
    "## Import Data Files into QIIME Formats"
   ]
  },
  {
   "cell_type": "markdown",
   "metadata": {},
   "source": [
    "## Data Files\n",
    "\n",
    "* Sample Name x Meta Information\n",
    "    * `sample_metadata.tsv`\n",
    "* Feature Table (Sample x OTU HTS Counts)\n",
    "    * `OTU_counts_feature_table.qza`\n",
    "* Taxonomy\n",
    "    * `taxonomy.qza`"
   ]
  },
  {
   "cell_type": "code",
   "execution_count": 57,
   "metadata": {},
   "outputs": [
    {
     "name": "stdout",
     "output_type": "stream",
     "text": [
      "\u001b[32mImported ../data/qiime/malate_OTU_counts_json_BIOM.biom as BIOMV100Format to ../data/qiime/malate_OTU_counts_feature_table.qza\u001b[0m\n",
      "\u001b[0m\u001b[32mImported ../data/processed/malate_taxonomy.tsv as HeaderlessTSVTaxonomyFormat to ../data/qiime/malate_taxonomy.qza\u001b[0m\n",
      "\u001b[0m"
     ]
    }
   ],
   "source": [
    "# Covert OTU_counts.tsv (class format table) to a BIOM table\n",
    "!biom convert -i ../data/processed/malate_OTU_counts.tsv \\\n",
    "--table-type=\"OTU table\" \\\n",
    "--to-json \\\n",
    "-o ../data/qiime/malate_OTU_counts_json_BIOM.biom\n",
    "\n",
    "# Import OTU_counts BIOM table into QIIME2 FeatureTable[Frequency]\n",
    "!qiime tools import --type 'FeatureTable[Frequency]' \\\n",
    "--input-path ../data/qiime/malate_OTU_counts_json_BIOM.biom \\\n",
    "--input-format BIOMV100Format \\\n",
    "--output-path ../data/qiime/malate_OTU_counts_feature_table.qza\n",
    "\n",
    "# Import Taxonomy into QIIME2 FeatureData[Taxonomy]\n",
    "!qiime tools import --type 'FeatureData[Taxonomy]' \\\n",
    "--input-path ../data/processed/malate_taxonomy.tsv \\\n",
    "--input-format HeaderlessTSVTaxonomyFormat \\\n",
    "--output-path ../data/qiime/malate_taxonomy.qza"
   ]
  },
  {
   "cell_type": "markdown",
   "metadata": {},
   "source": [
    "## Filter out Lower Abundance OTUs\n",
    "Lots of garbage OTUs due to contamination, sequencing error, or clustering errors."
   ]
  },
  {
   "cell_type": "code",
   "execution_count": 58,
   "metadata": {},
   "outputs": [
    {
     "name": "stdout",
     "output_type": "stream",
     "text": [
      "\u001b[32mSaved FeatureTable[Frequency] to: ../data/qiime/malate_OTU_counts_feature_table_filt100.qza\u001b[0m\r\n",
      "\u001b[0m"
     ]
    }
   ],
   "source": [
    "# filter out OTUs with a total abundance (summed across all samples) of less than threshold\n",
    "threshold = 100\n",
    "!qiime feature-table filter-features \\\n",
    "    --i-table ../data/qiime/malate_OTU_counts_feature_table.qza \\\n",
    "    --o-filtered-table ../data/qiime/malate_OTU_counts_feature_table_filt100.qza \\\n",
    "    --p-min-frequency 100"
   ]
  },
  {
   "cell_type": "markdown",
   "metadata": {},
   "source": [
    "## Construct Balances\n",
    "* Option 1: Correlation-Clustering\n",
    "* Option 2: Gradient-Clustering\n",
    "* Option 3: Phylogenetic Analysis"
   ]
  },
  {
   "cell_type": "markdown",
   "metadata": {},
   "source": [
    "### Option 1: Correlation-Clustering"
   ]
  },
  {
   "cell_type": "code",
   "execution_count": 61,
   "metadata": {},
   "outputs": [
    {
     "name": "stdout",
     "output_type": "stream",
     "text": [
      "\u001b[32mSaved Hierarchy to: ../data/qiime/malate_balance_hierarchy_filt100.qza\u001b[0m\r\n",
      "\u001b[0m"
     ]
    }
   ],
   "source": [
    "!qiime gneiss correlation-clustering \\\n",
    "  --i-table ../data/qiime/malate_OTU_counts_feature_table_filt100.qza \\\n",
    "  --o-clustering ../data/qiime/malate_balance_hierarchy_filt100.qza"
   ]
  },
  {
   "cell_type": "code",
   "execution_count": 62,
   "metadata": {},
   "outputs": [
    {
     "name": "stdout",
     "output_type": "stream",
     "text": [
      "\u001b[33m\u001b[1mPlugin warning from gneiss:\n",
      "\n",
      "dendrogram-heatmap is deprecated and will be removed in a future version of this plugin.\u001b[0m\n",
      "\u001b[32mSaved Visualization to: ../terminal/malate_balance_heatmap_filt100.qzv\u001b[0m\n",
      "\u001b[0m"
     ]
    }
   ],
   "source": [
    "# Visualize Heatmap\n",
    "!qiime gneiss dendrogram-heatmap \\\n",
    "  --i-table ../data/qiime/malate_OTU_counts_feature_table_filt100.qza \\\n",
    "  --i-tree ../data/qiime/malate_balance_hierarchy_filt100.qza \\\n",
    "  --m-metadata-file ../data/processed/malate_sample_metadata.tsv \\\n",
    "  --m-metadata-column series \\\n",
    "  --p-color-map seismic \\\n",
    "  --o-visualization ../terminal/malate_balance_heatmap_filt100.qzv"
   ]
  },
  {
   "cell_type": "markdown",
   "metadata": {},
   "source": [
    "### Option 2: Gradient-Clustering\n",
    "\n",
    "*Warning:* When using gradient-clustering, you are creating a tree to best highlight compositional differences along the metadata category of your choice, and it is possible to get false positives. Use gradient-clustering with caution."
   ]
  },
  {
   "cell_type": "code",
   "execution_count": 64,
   "metadata": {},
   "outputs": [
    {
     "name": "stdout",
     "output_type": "stream",
     "text": [
      "\u001b[32mSaved Hierarchy to: ../data/qiime/malate_gradient_balance_hierarchy_filt100.qza\u001b[0m\r\n",
      "\u001b[0m"
     ]
    }
   ],
   "source": [
    "!qiime gneiss gradient-clustering \\\n",
    "  --i-table ../data/qiime/malate_OTU_counts_feature_table_filt100.qza \\\n",
    "  --m-gradient-file ../data/processed/malate_sample_metadata.tsv \\\n",
    "  --m-gradient-column gradient \\\n",
    "  --o-clustering ../data/qiime/malate_gradient_balance_hierarchy_filt100.qza"
   ]
  },
  {
   "cell_type": "markdown",
   "metadata": {},
   "source": [
    "Before running the regression, we have to account for zero abundances. Due the nature of zeros, we cannot be certain if the zeros arose from undersampling, or the complete absence of an OTU. To this extent, we'll add a pseudocount of 1 to approximate the uncertainity probability. We'll also want this for visualizing the heatmaps, since we'll be doing some log scaling."
   ]
  },
  {
   "cell_type": "code",
   "execution_count": 65,
   "metadata": {},
   "outputs": [
    {
     "name": "stdout",
     "output_type": "stream",
     "text": [
      "\u001b[32mSaved FeatureTable[Composition] to: ../data/qiime/malate_feature_table_compositions_filt100.biom.qza\u001b[0m\r\n",
      "\u001b[0m"
     ]
    }
   ],
   "source": [
    "!qiime composition add-pseudocount \\\n",
    "    --i-table ../data/qiime/malate_OTU_counts_feature_table_filt100.qza \\\n",
    "    --p-pseudocount 1 \\\n",
    "    --o-composition-table ../data/qiime/malate_feature_table_compositions_filt100.biom.qza"
   ]
  },
  {
   "cell_type": "code",
   "execution_count": 66,
   "metadata": {},
   "outputs": [
    {
     "name": "stdout",
     "output_type": "stream",
     "text": [
      "\u001b[33m\u001b[1mPlugin warning from gneiss:\n",
      "\n",
      "dendrogram-heatmap is deprecated and will be removed in a future version of this plugin.\u001b[0m\n",
      "\u001b[32mSaved Visualization to: ../terminal/malate_gradient_balance_heatmap_filt100.qzv\u001b[0m\n",
      "\u001b[0m"
     ]
    }
   ],
   "source": [
    "# # Visualize Heatmap: \n",
    "# !qiime gneiss dendrogram-heatmap \\\n",
    "#   --i-table ../data/processed/malate_feature_table_compositions_filt100.biom.qza \\\n",
    "#   --i-tree ../data/processed/malate_gradient_balance_hierarchy_filt100.qza \\\n",
    "#   --m-metadata-file ../data/processed/malate_sample_metadata.tsv \\\n",
    "#   --m-metadata-column series \\\n",
    "#   --p-color-map seismic \\\n",
    "#   --o-visualization ../terminal/malate_gradient_balance_heatmap_filt100.qzv\n",
    "\n",
    "# ^ Error: (1/1) Invalid value for '--i-table': \n",
    "# Expected an artifact of at least typeFeatureTable[Frequency]. \n",
    "# An artifact of type FeatureTable[Composition] was provided.\n",
    "\n",
    "# Visualize Heatmap\n",
    "!qiime gneiss dendrogram-heatmap \\\n",
    "  --i-table ../data/qiime/malate_OTU_counts_feature_table_filt100.qza \\\n",
    "  --i-tree ../data/qiime/malate_gradient_balance_hierarchy_filt100.qza \\\n",
    "  --m-metadata-file ../data/processed/malate_sample_metadata.tsv \\\n",
    "  --m-metadata-column series \\\n",
    "  --p-color-map seismic \\\n",
    "  --o-visualization ../terminal/malate_gradient_balance_heatmap_filt100.qzv"
   ]
  },
  {
   "cell_type": "code",
   "execution_count": 67,
   "metadata": {},
   "outputs": [
    {
     "name": "stdout",
     "output_type": "stream",
     "text": [
      "\u001b[32mSaved FeatureTable[Balance] to: ../data/qiime/malate_gradient_ilr_filt100.qza\u001b[0m\r\n",
      "\u001b[0m"
     ]
    }
   ],
   "source": [
    "!qiime gneiss ilr-hierarchical \\\n",
    "    --i-table ../data/qiime/malate_feature_table_compositions_filt100.biom.qza \\\n",
    "    --i-tree ../data/qiime/malate_gradient_balance_hierarchy_filt100.qza \\\n",
    "    --o-balances ../data/qiime/malate_gradient_ilr_filt100.qza"
   ]
  }
 ],
 "metadata": {
  "kernelspec": {
   "display_name": "Python 3 (ipykernel)",
   "language": "python",
   "name": "python3"
  },
  "language_info": {
   "codemirror_mode": {
    "name": "ipython",
    "version": 3
   },
   "file_extension": ".py",
   "mimetype": "text/x-python",
   "name": "python",
   "nbconvert_exporter": "python",
   "pygments_lexer": "ipython3",
   "version": "3.8.12"
  }
 },
 "nbformat": 4,
 "nbformat_minor": 2
}
